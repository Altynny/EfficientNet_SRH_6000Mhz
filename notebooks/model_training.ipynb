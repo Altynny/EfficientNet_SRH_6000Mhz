{
  "cells": [
    {
      "cell_type": "markdown",
      "metadata": {
        "id": "yNN9NFwpWl15"
      },
      "source": [
        "# Загрузка датасета"
      ]
    },
    {
      "cell_type": "code",
      "execution_count": 1,
      "metadata": {
        "colab": {
          "base_uri": "https://localhost:8080/"
        },
        "id": "Nq0sTsP9ajdh",
        "outputId": "3743b6fc-a8c8-4790-b503-6ade37fc7cfa"
      },
      "outputs": [
        {
          "name": "stdout",
          "output_type": "stream",
          "text": [
            "Mounted at /content/drive\n"
          ]
        }
      ],
      "source": [
        "from google.colab import drive\n",
        "\n",
        "drive.mount(\"/content/drive\", force_remount=True)"
      ]
    },
    {
      "cell_type": "code",
      "execution_count": null,
      "metadata": {
        "colab": {
          "base_uri": "https://localhost:8080/"
        },
        "collapsed": true,
        "id": "KH7u8Haqay78",
        "outputId": "2020114e-4b09-4182-f911-43fd69a4364a"
      },
      "outputs": [],
      "source": [
        "!unzip '/content/drive/MyDrive/Colab Notebooks/data.zip'"
      ]
    },
    {
      "cell_type": "markdown",
      "metadata": {
        "id": "jcEX9GiZWwGC"
      },
      "source": [
        "# Обучение модели"
      ]
    },
    {
      "cell_type": "code",
      "execution_count": null,
      "metadata": {
        "colab": {
          "base_uri": "https://localhost:8080/"
        },
        "collapsed": true,
        "id": "hgFUFGCNa5L_",
        "outputId": "9f271dda-b686-490e-d2f3-05db6ef61c28"
      },
      "outputs": [],
      "source": [
        "from EffnetClassifier import EffnetClassifier\n",
        "\n",
        "version = 'b0'\n",
        "model = EffnetClassifier(model_name=f'efficientnet_{version}')\n",
        "data = \"6000\"\n",
        "\n",
        "model.set_num_classes(2)\n",
        "\n",
        "inference_dir = None\n",
        "\n",
        "model.get_efficientnet_dataloaders(data_dir=f\"/content/data/6000Mhz\", batch_size=32)\n",
        "model.train(\n",
        "    num_epochs_stage1=40,\n",
        "    num_epochs_stage2=80,\n",
        "    learning_rate_stage1=1e-3,\n",
        "    learning_rate_stage2=1e-4,\n",
        "    unfreeze_depth=3\n",
        ")\n",
        "model.save_model(f\"{version}_{data}.pth\")"
      ]
    },
    {
      "cell_type": "markdown",
      "metadata": {
        "id": "GNuHwbT9W6RE"
      },
      "source": [
        "# Оценка модели"
      ]
    },
    {
      "cell_type": "code",
      "execution_count": 5,
      "metadata": {
        "id": "rt4YiM9ra-rr"
      },
      "outputs": [],
      "source": [
        "import os\n",
        "os.makedirs('fig', exist_ok=True)"
      ]
    },
    {
      "cell_type": "code",
      "execution_count": null,
      "metadata": {
        "colab": {
          "base_uri": "https://localhost:8080/",
          "height": 713
        },
        "id": "Qto7U-IjbAST",
        "outputId": "cfda61fd-3b36-46ac-8257-204abf3f2125"
      },
      "outputs": [],
      "source": [
        "version = 'b0'\n",
        "model = EffnetClassifier(model_name=f'efficientnet_{version}')\n",
        "model.load_model('/content/b0_6000.pth')\n",
        "model.get_efficientnet_dataloaders(data_dir=f\"/content/data/6000Mhz\", batch_size=32)\n",
        "model.confusion_matrix()"
      ]
    }
  ],
  "metadata": {
    "accelerator": "GPU",
    "colab": {
      "gpuType": "T4",
      "provenance": []
    },
    "kernelspec": {
      "display_name": "Python 3",
      "name": "python3"
    },
    "language_info": {
      "name": "python"
    }
  },
  "nbformat": 4,
  "nbformat_minor": 0
}
