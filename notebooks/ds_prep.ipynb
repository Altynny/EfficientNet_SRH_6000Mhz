{
  "nbformat": 4,
  "nbformat_minor": 0,
  "metadata": {
    "colab": {
      "provenance": [],
      "authorship_tag": "ABX9TyP8qbUxwer9AoEzUSrT/wPJ",
      "include_colab_link": true
    },
    "kernelspec": {
      "name": "python3",
      "display_name": "Python 3"
    },
    "language_info": {
      "name": "python"
    }
  },
  "cells": [
    {
      "cell_type": "markdown",
      "metadata": {
        "id": "view-in-github",
        "colab_type": "text"
      },
      "source": [
        "<a href=\"https://colab.research.google.com/github/Altynny/EfficientNet_SRH_6000Mhz/blob/main/notebooks/ds_prep.ipynb\" target=\"_parent\"><img src=\"https://colab.research.google.com/assets/colab-badge.svg\" alt=\"Open In Colab\"/></a>"
      ]
    },
    {
      "cell_type": "markdown",
      "source": [
        "# Загрузка датасета"
      ],
      "metadata": {
        "id": "6k7sDyViXqmp"
      }
    },
    {
      "cell_type": "markdown",
      "source": [
        "Загрузить данные с сервера"
      ],
      "metadata": {
        "id": "ivTuuRV7R3He"
      }
    },
    {
      "cell_type": "code",
      "source": [
        "!wget https://forecasting.iszf.irk.ru/data/6000/all.zip"
      ],
      "metadata": {
        "id": "zz5wfoE5T2KR"
      },
      "execution_count": null,
      "outputs": []
    },
    {
      "cell_type": "code",
      "source": [
        "!mkdir -p data/6000Mhz\n",
        "!unzip -qqd data/6000Mhz all.zip"
      ],
      "metadata": {
        "collapsed": true,
        "id": "QZkuHo4GcNCO"
      },
      "execution_count": null,
      "outputs": []
    },
    {
      "cell_type": "markdown",
      "source": [
        "Или с диска"
      ],
      "metadata": {
        "id": "xyb3cfypR8pN"
      }
    },
    {
      "cell_type": "code",
      "source": [
        "from google.colab import drive\n",
        "\n",
        "drive.mount('/content/drive', force_remount=True)"
      ],
      "metadata": {
        "colab": {
          "base_uri": "https://localhost:8080/"
        },
        "id": "ZRUhfJykRS_Y",
        "outputId": "12ce70e5-4bc3-4711-f1bd-b46ae8f56045"
      },
      "execution_count": null,
      "outputs": [
        {
          "output_type": "stream",
          "name": "stdout",
          "text": [
            "Mounted at /content/drive\n"
          ]
        }
      ]
    },
    {
      "cell_type": "code",
      "source": [
        "!mkdir -p data/6000Mhz\n",
        "!unzip -qqd data/6000Mhz /content/drive/MyDrive/SRH_dataset/all.zip"
      ],
      "metadata": {
        "collapsed": true,
        "id": "EbKs1f08RirJ"
      },
      "execution_count": null,
      "outputs": []
    },
    {
      "cell_type": "markdown",
      "source": [
        "# Подготовка датасета в соответсвие с классами в CSV"
      ],
      "metadata": {
        "id": "noB1D7X2Zjq-"
      }
    },
    {
      "cell_type": "markdown",
      "source": [
        "Сначала считываем CSV и корректируем имена файлов с изображениями"
      ],
      "metadata": {
        "id": "9z-A9CLXP4Kj"
      }
    },
    {
      "cell_type": "code",
      "source": [
        "import pandas as pd\n",
        "\n",
        "data = pd.read_csv('dataset_6000.csv')\n",
        "data.Name = data.Name.apply(lambda x: x.replace(':', '-') + '.png')\n",
        "data.head()"
      ],
      "metadata": {
        "colab": {
          "base_uri": "https://localhost:8080/",
          "height": 206
        },
        "id": "DHufwhtUXqXX",
        "outputId": "04b196d9-b077-4891-d48c-b8a6a381c752"
      },
      "execution_count": null,
      "outputs": [
        {
          "output_type": "execute_result",
          "data": {
            "text/plain": [
              "                                     Name        Date      Time  \\\n",
              "0  srh_I_2022-03-17T02-59-30_6200.fit.png  2022-03-17  02:59:30   \n",
              "1  srh_I_2022-03-17T03-11-32_6200.fit.png  2022-03-17  03:11:32   \n",
              "2  srh_I_2022-03-17T02-32-10_6200.fit.png  2022-03-17  02:32:10   \n",
              "3  srh_I_2022-03-17T02-17-57_6200.fit.png  2022-03-17  02:17:57   \n",
              "4  srh_I_2022-03-17T03-20-16_6200.fit.png  2022-03-17  03:20:16   \n",
              "\n",
              "                                                 URL Category  Probability  \\\n",
              "0  https://ftp.rao.istp.ac.ru/SRH/SRH0612/cleanMa...       Ok            1   \n",
              "1  https://ftp.rao.istp.ac.ru/SRH/SRH0612/cleanMa...       Ok            1   \n",
              "2  https://ftp.rao.istp.ac.ru/SRH/SRH0612/cleanMa...       Ok            1   \n",
              "3  https://ftp.rao.istp.ac.ru/SRH/SRH0612/cleanMa...       Ok            1   \n",
              "4  https://ftp.rao.istp.ac.ru/SRH/SRH0612/cleanMa...      Bad            1   \n",
              "\n",
              "   Color  \n",
              "0    red  \n",
              "1    red  \n",
              "2    red  \n",
              "3    red  \n",
              "4  green  "
            ],
            "text/html": [
              "\n",
              "  <div id=\"df-19866e89-da9f-4c09-a2b7-faddb94bcc62\" class=\"colab-df-container\">\n",
              "    <div>\n",
              "<style scoped>\n",
              "    .dataframe tbody tr th:only-of-type {\n",
              "        vertical-align: middle;\n",
              "    }\n",
              "\n",
              "    .dataframe tbody tr th {\n",
              "        vertical-align: top;\n",
              "    }\n",
              "\n",
              "    .dataframe thead th {\n",
              "        text-align: right;\n",
              "    }\n",
              "</style>\n",
              "<table border=\"1\" class=\"dataframe\">\n",
              "  <thead>\n",
              "    <tr style=\"text-align: right;\">\n",
              "      <th></th>\n",
              "      <th>Name</th>\n",
              "      <th>Date</th>\n",
              "      <th>Time</th>\n",
              "      <th>URL</th>\n",
              "      <th>Category</th>\n",
              "      <th>Probability</th>\n",
              "      <th>Color</th>\n",
              "    </tr>\n",
              "  </thead>\n",
              "  <tbody>\n",
              "    <tr>\n",
              "      <th>0</th>\n",
              "      <td>srh_I_2022-03-17T02-59-30_6200.fit.png</td>\n",
              "      <td>2022-03-17</td>\n",
              "      <td>02:59:30</td>\n",
              "      <td>https://ftp.rao.istp.ac.ru/SRH/SRH0612/cleanMa...</td>\n",
              "      <td>Ok</td>\n",
              "      <td>1</td>\n",
              "      <td>red</td>\n",
              "    </tr>\n",
              "    <tr>\n",
              "      <th>1</th>\n",
              "      <td>srh_I_2022-03-17T03-11-32_6200.fit.png</td>\n",
              "      <td>2022-03-17</td>\n",
              "      <td>03:11:32</td>\n",
              "      <td>https://ftp.rao.istp.ac.ru/SRH/SRH0612/cleanMa...</td>\n",
              "      <td>Ok</td>\n",
              "      <td>1</td>\n",
              "      <td>red</td>\n",
              "    </tr>\n",
              "    <tr>\n",
              "      <th>2</th>\n",
              "      <td>srh_I_2022-03-17T02-32-10_6200.fit.png</td>\n",
              "      <td>2022-03-17</td>\n",
              "      <td>02:32:10</td>\n",
              "      <td>https://ftp.rao.istp.ac.ru/SRH/SRH0612/cleanMa...</td>\n",
              "      <td>Ok</td>\n",
              "      <td>1</td>\n",
              "      <td>red</td>\n",
              "    </tr>\n",
              "    <tr>\n",
              "      <th>3</th>\n",
              "      <td>srh_I_2022-03-17T02-17-57_6200.fit.png</td>\n",
              "      <td>2022-03-17</td>\n",
              "      <td>02:17:57</td>\n",
              "      <td>https://ftp.rao.istp.ac.ru/SRH/SRH0612/cleanMa...</td>\n",
              "      <td>Ok</td>\n",
              "      <td>1</td>\n",
              "      <td>red</td>\n",
              "    </tr>\n",
              "    <tr>\n",
              "      <th>4</th>\n",
              "      <td>srh_I_2022-03-17T03-20-16_6200.fit.png</td>\n",
              "      <td>2022-03-17</td>\n",
              "      <td>03:20:16</td>\n",
              "      <td>https://ftp.rao.istp.ac.ru/SRH/SRH0612/cleanMa...</td>\n",
              "      <td>Bad</td>\n",
              "      <td>1</td>\n",
              "      <td>green</td>\n",
              "    </tr>\n",
              "  </tbody>\n",
              "</table>\n",
              "</div>\n",
              "    <div class=\"colab-df-buttons\">\n",
              "\n",
              "  <div class=\"colab-df-container\">\n",
              "    <button class=\"colab-df-convert\" onclick=\"convertToInteractive('df-19866e89-da9f-4c09-a2b7-faddb94bcc62')\"\n",
              "            title=\"Convert this dataframe to an interactive table.\"\n",
              "            style=\"display:none;\">\n",
              "\n",
              "  <svg xmlns=\"http://www.w3.org/2000/svg\" height=\"24px\" viewBox=\"0 -960 960 960\">\n",
              "    <path d=\"M120-120v-720h720v720H120Zm60-500h600v-160H180v160Zm220 220h160v-160H400v160Zm0 220h160v-160H400v160ZM180-400h160v-160H180v160Zm440 0h160v-160H620v160ZM180-180h160v-160H180v160Zm440 0h160v-160H620v160Z\"/>\n",
              "  </svg>\n",
              "    </button>\n",
              "\n",
              "  <style>\n",
              "    .colab-df-container {\n",
              "      display:flex;\n",
              "      gap: 12px;\n",
              "    }\n",
              "\n",
              "    .colab-df-convert {\n",
              "      background-color: #E8F0FE;\n",
              "      border: none;\n",
              "      border-radius: 50%;\n",
              "      cursor: pointer;\n",
              "      display: none;\n",
              "      fill: #1967D2;\n",
              "      height: 32px;\n",
              "      padding: 0 0 0 0;\n",
              "      width: 32px;\n",
              "    }\n",
              "\n",
              "    .colab-df-convert:hover {\n",
              "      background-color: #E2EBFA;\n",
              "      box-shadow: 0px 1px 2px rgba(60, 64, 67, 0.3), 0px 1px 3px 1px rgba(60, 64, 67, 0.15);\n",
              "      fill: #174EA6;\n",
              "    }\n",
              "\n",
              "    .colab-df-buttons div {\n",
              "      margin-bottom: 4px;\n",
              "    }\n",
              "\n",
              "    [theme=dark] .colab-df-convert {\n",
              "      background-color: #3B4455;\n",
              "      fill: #D2E3FC;\n",
              "    }\n",
              "\n",
              "    [theme=dark] .colab-df-convert:hover {\n",
              "      background-color: #434B5C;\n",
              "      box-shadow: 0px 1px 3px 1px rgba(0, 0, 0, 0.15);\n",
              "      filter: drop-shadow(0px 1px 2px rgba(0, 0, 0, 0.3));\n",
              "      fill: #FFFFFF;\n",
              "    }\n",
              "  </style>\n",
              "\n",
              "    <script>\n",
              "      const buttonEl =\n",
              "        document.querySelector('#df-19866e89-da9f-4c09-a2b7-faddb94bcc62 button.colab-df-convert');\n",
              "      buttonEl.style.display =\n",
              "        google.colab.kernel.accessAllowed ? 'block' : 'none';\n",
              "\n",
              "      async function convertToInteractive(key) {\n",
              "        const element = document.querySelector('#df-19866e89-da9f-4c09-a2b7-faddb94bcc62');\n",
              "        const dataTable =\n",
              "          await google.colab.kernel.invokeFunction('convertToInteractive',\n",
              "                                                    [key], {});\n",
              "        if (!dataTable) return;\n",
              "\n",
              "        const docLinkHtml = 'Like what you see? Visit the ' +\n",
              "          '<a target=\"_blank\" href=https://colab.research.google.com/notebooks/data_table.ipynb>data table notebook</a>'\n",
              "          + ' to learn more about interactive tables.';\n",
              "        element.innerHTML = '';\n",
              "        dataTable['output_type'] = 'display_data';\n",
              "        await google.colab.output.renderOutput(dataTable, element);\n",
              "        const docLink = document.createElement('div');\n",
              "        docLink.innerHTML = docLinkHtml;\n",
              "        element.appendChild(docLink);\n",
              "      }\n",
              "    </script>\n",
              "  </div>\n",
              "\n",
              "\n",
              "    <div id=\"df-03f5f778-45cb-4c2f-8194-5b67d11d1377\">\n",
              "      <button class=\"colab-df-quickchart\" onclick=\"quickchart('df-03f5f778-45cb-4c2f-8194-5b67d11d1377')\"\n",
              "                title=\"Suggest charts\"\n",
              "                style=\"display:none;\">\n",
              "\n",
              "<svg xmlns=\"http://www.w3.org/2000/svg\" height=\"24px\"viewBox=\"0 0 24 24\"\n",
              "     width=\"24px\">\n",
              "    <g>\n",
              "        <path d=\"M19 3H5c-1.1 0-2 .9-2 2v14c0 1.1.9 2 2 2h14c1.1 0 2-.9 2-2V5c0-1.1-.9-2-2-2zM9 17H7v-7h2v7zm4 0h-2V7h2v10zm4 0h-2v-4h2v4z\"/>\n",
              "    </g>\n",
              "</svg>\n",
              "      </button>\n",
              "\n",
              "<style>\n",
              "  .colab-df-quickchart {\n",
              "      --bg-color: #E8F0FE;\n",
              "      --fill-color: #1967D2;\n",
              "      --hover-bg-color: #E2EBFA;\n",
              "      --hover-fill-color: #174EA6;\n",
              "      --disabled-fill-color: #AAA;\n",
              "      --disabled-bg-color: #DDD;\n",
              "  }\n",
              "\n",
              "  [theme=dark] .colab-df-quickchart {\n",
              "      --bg-color: #3B4455;\n",
              "      --fill-color: #D2E3FC;\n",
              "      --hover-bg-color: #434B5C;\n",
              "      --hover-fill-color: #FFFFFF;\n",
              "      --disabled-bg-color: #3B4455;\n",
              "      --disabled-fill-color: #666;\n",
              "  }\n",
              "\n",
              "  .colab-df-quickchart {\n",
              "    background-color: var(--bg-color);\n",
              "    border: none;\n",
              "    border-radius: 50%;\n",
              "    cursor: pointer;\n",
              "    display: none;\n",
              "    fill: var(--fill-color);\n",
              "    height: 32px;\n",
              "    padding: 0;\n",
              "    width: 32px;\n",
              "  }\n",
              "\n",
              "  .colab-df-quickchart:hover {\n",
              "    background-color: var(--hover-bg-color);\n",
              "    box-shadow: 0 1px 2px rgba(60, 64, 67, 0.3), 0 1px 3px 1px rgba(60, 64, 67, 0.15);\n",
              "    fill: var(--button-hover-fill-color);\n",
              "  }\n",
              "\n",
              "  .colab-df-quickchart-complete:disabled,\n",
              "  .colab-df-quickchart-complete:disabled:hover {\n",
              "    background-color: var(--disabled-bg-color);\n",
              "    fill: var(--disabled-fill-color);\n",
              "    box-shadow: none;\n",
              "  }\n",
              "\n",
              "  .colab-df-spinner {\n",
              "    border: 2px solid var(--fill-color);\n",
              "    border-color: transparent;\n",
              "    border-bottom-color: var(--fill-color);\n",
              "    animation:\n",
              "      spin 1s steps(1) infinite;\n",
              "  }\n",
              "\n",
              "  @keyframes spin {\n",
              "    0% {\n",
              "      border-color: transparent;\n",
              "      border-bottom-color: var(--fill-color);\n",
              "      border-left-color: var(--fill-color);\n",
              "    }\n",
              "    20% {\n",
              "      border-color: transparent;\n",
              "      border-left-color: var(--fill-color);\n",
              "      border-top-color: var(--fill-color);\n",
              "    }\n",
              "    30% {\n",
              "      border-color: transparent;\n",
              "      border-left-color: var(--fill-color);\n",
              "      border-top-color: var(--fill-color);\n",
              "      border-right-color: var(--fill-color);\n",
              "    }\n",
              "    40% {\n",
              "      border-color: transparent;\n",
              "      border-right-color: var(--fill-color);\n",
              "      border-top-color: var(--fill-color);\n",
              "    }\n",
              "    60% {\n",
              "      border-color: transparent;\n",
              "      border-right-color: var(--fill-color);\n",
              "    }\n",
              "    80% {\n",
              "      border-color: transparent;\n",
              "      border-right-color: var(--fill-color);\n",
              "      border-bottom-color: var(--fill-color);\n",
              "    }\n",
              "    90% {\n",
              "      border-color: transparent;\n",
              "      border-bottom-color: var(--fill-color);\n",
              "    }\n",
              "  }\n",
              "</style>\n",
              "\n",
              "      <script>\n",
              "        async function quickchart(key) {\n",
              "          const quickchartButtonEl =\n",
              "            document.querySelector('#' + key + ' button');\n",
              "          quickchartButtonEl.disabled = true;  // To prevent multiple clicks.\n",
              "          quickchartButtonEl.classList.add('colab-df-spinner');\n",
              "          try {\n",
              "            const charts = await google.colab.kernel.invokeFunction(\n",
              "                'suggestCharts', [key], {});\n",
              "          } catch (error) {\n",
              "            console.error('Error during call to suggestCharts:', error);\n",
              "          }\n",
              "          quickchartButtonEl.classList.remove('colab-df-spinner');\n",
              "          quickchartButtonEl.classList.add('colab-df-quickchart-complete');\n",
              "        }\n",
              "        (() => {\n",
              "          let quickchartButtonEl =\n",
              "            document.querySelector('#df-03f5f778-45cb-4c2f-8194-5b67d11d1377 button');\n",
              "          quickchartButtonEl.style.display =\n",
              "            google.colab.kernel.accessAllowed ? 'block' : 'none';\n",
              "        })();\n",
              "      </script>\n",
              "    </div>\n",
              "    </div>\n",
              "  </div>\n"
            ],
            "application/vnd.google.colaboratory.intrinsic+json": {
              "type": "dataframe",
              "variable_name": "data",
              "summary": "{\n  \"name\": \"data\",\n  \"rows\": 11646,\n  \"fields\": [\n    {\n      \"column\": \"Name\",\n      \"properties\": {\n        \"dtype\": \"string\",\n        \"num_unique_values\": 11646,\n        \"samples\": [\n          \"srh_I_2024-03-22T05-55-32_6000.fit.png\",\n          \"srh_I_2024-05-31T09-11-59_6000.fit.png\",\n          \"srh_I_2023-09-04T02-25-45_6000.fit.png\"\n        ],\n        \"semantic_type\": \"\",\n        \"description\": \"\"\n      }\n    },\n    {\n      \"column\": \"Date\",\n      \"properties\": {\n        \"dtype\": \"object\",\n        \"num_unique_values\": 413,\n        \"samples\": [\n          \"2024-05-20\",\n          \"2024-04-02\",\n          \"2024-05-26\"\n        ],\n        \"semantic_type\": \"\",\n        \"description\": \"\"\n      }\n    },\n    {\n      \"column\": \"Time\",\n      \"properties\": {\n        \"dtype\": \"object\",\n        \"num_unique_values\": 7666,\n        \"samples\": [\n          \"07:49:25\",\n          \"08:22:00\",\n          \"06:05:59\"\n        ],\n        \"semantic_type\": \"\",\n        \"description\": \"\"\n      }\n    },\n    {\n      \"column\": \"URL\",\n      \"properties\": {\n        \"dtype\": \"string\",\n        \"num_unique_values\": 11646,\n        \"samples\": [\n          \"https://ftp.rao.istp.ac.ru/SRH/SRH0612/cleanMaps/20240322/srh_I_2024-03-22T05:55:32_6000.fit\",\n          \"https://ftp.rao.istp.ac.ru/SRH/SRH0612/cleanMaps/20240531/srh_I_2024-05-31T09:11:59_6000.fit\",\n          \"https://ftp.rao.istp.ac.ru/SRH/SRH0612/cleanMaps/20230904/srh_I_2023-09-04T02:25:45_6000.fit\"\n        ],\n        \"semantic_type\": \"\",\n        \"description\": \"\"\n      }\n    },\n    {\n      \"column\": \"Category\",\n      \"properties\": {\n        \"dtype\": \"category\",\n        \"num_unique_values\": 2,\n        \"samples\": [\n          \"Bad\",\n          \"Ok\"\n        ],\n        \"semantic_type\": \"\",\n        \"description\": \"\"\n      }\n    },\n    {\n      \"column\": \"Probability\",\n      \"properties\": {\n        \"dtype\": \"number\",\n        \"std\": 0,\n        \"min\": 1,\n        \"max\": 1,\n        \"num_unique_values\": 1,\n        \"samples\": [\n          1\n        ],\n        \"semantic_type\": \"\",\n        \"description\": \"\"\n      }\n    },\n    {\n      \"column\": \"Color\",\n      \"properties\": {\n        \"dtype\": \"category\",\n        \"num_unique_values\": 2,\n        \"samples\": [\n          \"green\"\n        ],\n        \"semantic_type\": \"\",\n        \"description\": \"\"\n      }\n    }\n  ]\n}"
            }
          },
          "metadata": {},
          "execution_count": 45
        }
      ]
    },
    {
      "cell_type": "markdown",
      "source": [
        "Часть данных оказалась повреждена, поэтому фильтруем датасет"
      ],
      "metadata": {
        "id": "RKHE3JGeQJiY"
      }
    },
    {
      "cell_type": "code",
      "source": [
        "from PIL import Image\n",
        "\n",
        "DATA_DIR = 'data/6000Mhz'\n",
        "\n",
        "def check_corruption(filename, base_dir = DATA_DIR):\n",
        "  try:\n",
        "    with Image.open(f'{base_dir}/{filename}') as img:\n",
        "      img.verify()\n",
        "      return False\n",
        "  except:\n",
        "      return True\n",
        "\n",
        "corrupted_mask = data.Name.apply(check_corruption)\n",
        "corrupted_data = data[corrupted_mask == True]\n",
        "filtred_data = data[corrupted_mask == False]"
      ],
      "metadata": {
        "id": "QUnhZRV3WSqU"
      },
      "execution_count": null,
      "outputs": []
    },
    {
      "cell_type": "code",
      "source": [
        "corr_bad = corrupted_data[corrupted_data.Category == 'Bad'].shape[0]\n",
        "corr_ok = corrupted_data[corrupted_data.Category == 'Ok'].shape[0]\n",
        "print(f'Всего повреждено {corr_bad} файлов Bad и {corr_ok} файлов Ok')"
      ],
      "metadata": {
        "colab": {
          "base_uri": "https://localhost:8080/"
        },
        "id": "hLfQF7fwZ9Jp",
        "outputId": "7cc6ea89-34ab-4ff3-e54b-02e1a68d2ccc"
      },
      "execution_count": null,
      "outputs": [
        {
          "output_type": "stream",
          "name": "stdout",
          "text": [
            "Всего повреждено 784 файлов Bad и 113 файлов Ok\n"
          ]
        }
      ]
    },
    {
      "cell_type": "markdown",
      "source": [
        "Теперь можно обрезать классы по величине минимального, чтобы избежать дисбаланса"
      ],
      "metadata": {
        "id": "6KYlWD9lQqlU"
      }
    },
    {
      "cell_type": "code",
      "source": [
        "ok_names = filtred_data.Name[data.Category == 'Ok'].to_list()\n",
        "bad_names = filtred_data.Name[data.Category == 'Bad'].to_list()\n",
        "\n",
        "min_category_len = min(len(ok_names), len(bad_names))\n",
        "print(f'Минимальный размер класса - {min_category_len}')\n",
        "\n",
        "X = ok_names[:min_category_len] + bad_names[:min_category_len]\n",
        "Y = ['Ok']*min_category_len + ['Bad']*min_category_len"
      ],
      "metadata": {
        "id": "uBlbMBJGXeK6",
        "colab": {
          "base_uri": "https://localhost:8080/"
        },
        "outputId": "5418dd1b-5240-4510-d257-2dd01cd103a0"
      },
      "execution_count": null,
      "outputs": [
        {
          "output_type": "stream",
          "name": "stdout",
          "text": [
            "Минимальный размер класса - 4891\n"
          ]
        }
      ]
    },
    {
      "cell_type": "markdown",
      "source": [
        "Делим датасет на тренировочную, валидационную и тестовую выборки применив дважды train_test_split"
      ],
      "metadata": {
        "id": "raui8mzMREEX"
      }
    },
    {
      "cell_type": "code",
      "source": [
        "from sklearn.model_selection import train_test_split\n",
        "\n",
        "X_train, X_test, Y_train, Y_test = train_test_split(X, Y, test_size = 0.4) # сначала выделяем 40% на тестовую часть\n",
        "X_val, X_test, Y_val, Y_test = train_test_split(X_test, Y_test, test_size = 0.5) # и выделяем половину из тестовой на валидационную"
      ],
      "metadata": {
        "id": "wyMG9f6id4xo"
      },
      "execution_count": null,
      "outputs": []
    },
    {
      "cell_type": "markdown",
      "source": [
        "И перемещаем файлы распакованного архива в соответствие с размеченной структурой"
      ],
      "metadata": {
        "id": "XVzLQ-vvRPFM"
      }
    },
    {
      "cell_type": "code",
      "source": [
        "import os\n",
        "from shutil import move\n",
        "\n",
        "for ds_type, names, categories in [('train', X_train, Y_train), ('val', X_val, Y_val), ('test', X_test, Y_test)]:\n",
        "  os.makedirs(f'{DATA_DIR}/{ds_type}/Ok', exist_ok=True)\n",
        "  os.makedirs(f'{DATA_DIR}/{ds_type}/Bad', exist_ok=True)\n",
        "  for name, category in zip(names, categories):\n",
        "    source = f'{DATA_DIR}/{name}'\n",
        "    if os.path.exists(source):\n",
        "      move(source, f'{DATA_DIR}/{ds_type}/{category}/{name}')\n",
        "\n",
        "# Очистка директории датасета от лишних файлов\n",
        "for name in os.listdir(DATA_DIR):\n",
        "  source = f'{DATA_DIR}/{name}'\n",
        "  if os.path.isfile(source):\n",
        "    os.remove(source)"
      ],
      "metadata": {
        "id": "bceGmDKBcTEZ"
      },
      "execution_count": null,
      "outputs": []
    },
    {
      "cell_type": "code",
      "source": [
        "!zip -qqr drive/MyDrive/SRH_dataset/data.zip data"
      ],
      "metadata": {
        "id": "AV5duhYsmcbt"
      },
      "execution_count": null,
      "outputs": []
    }
  ]
}